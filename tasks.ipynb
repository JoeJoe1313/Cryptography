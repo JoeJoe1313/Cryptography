{
 "cells": [
  {
   "cell_type": "code",
   "execution_count": 1,
   "metadata": {},
   "outputs": [],
   "source": [
    "import numpy as np\n",
    "import math\n",
    "from collections import Counter"
   ]
  },
  {
   "cell_type": "markdown",
   "metadata": {},
   "source": [
    "## Problem 1"
   ]
  },
  {
   "cell_type": "code",
   "execution_count": 2,
   "metadata": {},
   "outputs": [],
   "source": [
    "def _combinations(n, k, start):\n",
    "    if n < k or k == 0:\n",
    "        return []\n",
    "    if k == 1:\n",
    "        return [[el + start] for el in list(range(n))]\n",
    "    result = []\n",
    "    for i in range(n - k + 1):\n",
    "        current = _combinations(n - i - 1, k - 1, start + i + 1)\n",
    "        for el in current:\n",
    "            el.append(i + start)\n",
    "            result.append(el)\n",
    "    return result\n",
    "\n",
    "def combinations(n, k):\n",
    "    return [el[::-1] for el in _combinations(n, k, 0)]"
   ]
  },
  {
   "cell_type": "code",
   "execution_count": 3,
   "metadata": {},
   "outputs": [
    {
     "data": {
      "text/plain": [
       "376992"
      ]
     },
     "execution_count": 3,
     "metadata": {},
     "output_type": "execute_result"
    }
   ],
   "source": [
    "len(combinations(36, 31))"
   ]
  },
  {
   "cell_type": "code",
   "execution_count": 89,
   "metadata": {},
   "outputs": [],
   "source": [
    "possitions = np.column_stack((np.cos(np.deg2rad(np.arange(0, 360, 10))), np.sin(np.deg2rad(np.arange(0, 360, 10)))))"
   ]
  },
  {
   "cell_type": "code",
   "execution_count": 90,
   "metadata": {},
   "outputs": [],
   "source": [
    "five = combinations(36, 31)"
   ]
  },
  {
   "cell_type": "code",
   "execution_count": 103,
   "metadata": {},
   "outputs": [
    {
     "name": "stdout",
     "output_type": "stream",
     "text": [
      "376992\n",
      "[0, 1, 2, 3, 4, 5, 6, 7, 8, 9, 10, 12, 13, 14, 15, 17, 18, 19, 20, 21, 22, 24, 25, 26, 27, 28, 29, 30, 31, 32, 33]\n",
      "3.397580776041969e-17\n",
      "58905\n",
      "7140\n",
      "630\n",
      "36\n"
     ]
    }
   ],
   "source": [
    "answer = set()\n",
    "printed = False\n",
    "for i in range(31, 36):\n",
    "    seating = combinations(36, i)\n",
    "    print(len(seating))\n",
    "    for j, el in enumerate(np.linalg.norm(np.mean(possitions[seating], axis=1), axis=1)):\n",
    "        if el < 0.000001:\n",
    "            if i == 31 and not printed:\n",
    "                printed = True\n",
    "                print(seating[j])\n",
    "                print(el)\n",
    "            answer.add(i)"
   ]
  },
  {
   "cell_type": "code",
   "execution_count": 107,
   "metadata": {},
   "outputs": [
    {
     "data": {
      "text/plain": [
       "{31, 32, 33, 34}"
      ]
     },
     "execution_count": 107,
     "metadata": {},
     "output_type": "execute_result"
    }
   ],
   "source": [
    "answer"
   ]
  },
  {
   "cell_type": "markdown",
   "metadata": {},
   "source": [
    "## Problem 2"
   ]
  },
  {
   "cell_type": "code",
   "execution_count": 110,
   "metadata": {},
   "outputs": [
    {
     "data": {
      "text/plain": [
       "7"
      ]
     },
     "execution_count": 110,
     "metadata": {},
     "output_type": "execute_result"
    }
   ],
   "source": [
    "a = [2, 5]\n",
    "for _ in range(5000):\n",
    "    a.append((a[-1] * 5 - a[-2]) % 10)\n",
    "a[2020]"
   ]
  },
  {
   "cell_type": "markdown",
   "metadata": {},
   "source": [
    "## Problem 3"
   ]
  },
  {
   "cell_type": "code",
   "execution_count": 115,
   "metadata": {},
   "outputs": [],
   "source": [
    "BILLS = [1, 2, 5, 10, 20, 50, 100]\n",
    "change = {0: {bill: 0 for bill in BILLS}}\n",
    "for i in range(1, 101):\n",
    "    for bill in BILLS[::-1]:\n",
    "        if bill <= i:\n",
    "            curr_change = change[i - bill].copy()\n",
    "            curr_change[bill] += 1\n",
    "            change[i] = curr_change\n",
    "            break"
   ]
  },
  {
   "cell_type": "code",
   "execution_count": 134,
   "metadata": {},
   "outputs": [],
   "source": [
    "def _subsets(a):\n",
    "    if a == []:\n",
    "        return [[]]\n",
    "    result = []\n",
    "    witout_first = _subsets(a[1:])\n",
    "    for el in witout_first:\n",
    "        new_el = el.copy()\n",
    "        new_el.append(a[0])\n",
    "        result.append(new_el)\n",
    "    result.extend(witout_first)\n",
    "    return result\n",
    "\n",
    "def subsets(a):\n",
    "    return [el[::-1] for el in _subsets(a)]"
   ]
  },
  {
   "cell_type": "code",
   "execution_count": 145,
   "metadata": {},
   "outputs": [],
   "source": [
    "def buy(available, cost):\n",
    "    a = []\n",
    "    for k, v in available.items():\n",
    "        for _ in range(v):\n",
    "            a.append(k)\n",
    "    if cost > sum(a):\n",
    "        return False, None\n",
    "    payments = subsets(a)\n",
    "    best = -1\n",
    "    best_payment = {}\n",
    "    for payment in payments:\n",
    "        paid = sum(payment)\n",
    "        if paid >= cost:\n",
    "            if best == -1 or paid < best:\n",
    "                best = paid\n",
    "                best_payment = dict(Counter(payment))\n",
    "    diff = best - cost\n",
    "    if sum(change[diff].values()) < 2:\n",
    "        return False, None\n",
    "    for k, v in best_payment.items():\n",
    "        available[k] -= v\n",
    "    for k, v in change[diff].items():\n",
    "        available[k] += v\n",
    "    return True, available"
   ]
  },
  {
   "cell_type": "code",
   "execution_count": 168,
   "metadata": {},
   "outputs": [],
   "source": [
    "def count_items(available):\n",
    "    count = 0\n",
    "    max_price = 0\n",
    "    prices = []\n",
    "    for k, v in available.items():\n",
    "        max_price += k * v\n",
    "    for cost in range(1, max_price - 1):\n",
    "        temp_available = available.copy()\n",
    "        res, new_available = buy(temp_available, cost)\n",
    "        if res:\n",
    "            new_count, new_prices = count_items(new_available)\n",
    "            if new_count + 1 > count:\n",
    "                count = new_count + 1\n",
    "                prices = new_prices\n",
    "                prices.append(cost)\n",
    "    return count, prices"
   ]
  },
  {
   "cell_type": "code",
   "execution_count": 177,
   "metadata": {},
   "outputs": [
    {
     "data": {
      "text/plain": [
       "(8, [17, 13, 10, 7, 8, 12, 9, 5])"
      ]
     },
     "execution_count": 177,
     "metadata": {},
     "output_type": "execute_result"
    }
   ],
   "source": [
    "count_items(change[100].copy())"
   ]
  },
  {
   "cell_type": "markdown",
   "metadata": {},
   "source": [
    "## Cryptography"
   ]
  },
  {
   "cell_type": "markdown",
   "metadata": {},
   "source": [
    "### 4"
   ]
  },
  {
   "cell_type": "code",
   "execution_count": 20,
   "metadata": {},
   "outputs": [],
   "source": [
    "coded = 'GXILBGLQQJAIPWBMRKAZBWYKKKUCRKG'\n",
    "coded_array = [ord(el) - ord('A') for el in coded]\n",
    "part = 'GESTURE'\n",
    "part_array = [ord(el) - ord('A') for el in part]"
   ]
  },
  {
   "cell_type": "code",
   "execution_count": 21,
   "metadata": {},
   "outputs": [
    {
     "data": {
      "text/plain": [
       "(7, 31)"
      ]
     },
     "execution_count": 21,
     "metadata": {},
     "output_type": "execute_result"
    }
   ],
   "source": [
    "len(part), len(coded)"
   ]
  },
  {
   "cell_type": "code",
   "execution_count": 27,
   "metadata": {},
   "outputs": [
    {
     "name": "stdout",
     "output_type": "stream",
     "text": [
      "0 : not possible\n",
      "1 : not possible\n",
      "2 : not possible\n",
      "3 : not possible\n",
      "4 : not possible\n",
      "5 : not possible\n",
      "6 : not possible\n",
      "7 : not possible\n",
      "8 : not possible\n",
      "9 : not possible\n",
      "10 : not possible\n",
      "[6, 11, 0, 20, 1, 4, 0, 12, 8, 17, 0, 2, 11, 4, 8, 18, 0, 6, 4, 18, 19, 20, 17, 4, 22, 7, 8, 2, 7, 6, 14, 3, 12, 0, 10, 4, 18]\n",
      "GLAUBEAMIRACLEISAGESTUREWHICHGODMAKES\n",
      "12 : not possible\n",
      "13 : not possible\n",
      "14 : not possible\n",
      "15 : not possible\n",
      "16 : not possible\n",
      "[14, 22, 11, 12, 11, 2, 18, 1, 23, 25, 16, 4, 19, 15, 19, 10, 10, 4, 22, 7, 8, 2, 7, 6, 4, 18, 19, 20, 17, 4, 6, 18, 1, 8, 0, 6, 0]\n",
      "OWLMLCSBXZQETPTKKEWHICHGESTUREGSBIAGA\n",
      "[16, 8, 10, 11, 14, 15, 16, 15, 24, 0, 13, 17, 21, 1, 18, 9, 13, 17, 20, 21, 9, 3, 4, 19, 6, 4, 18, 19, 20, 17, 4, 6, 2, 9, 23, 19, 2]\n",
      "QIKLOPQPYANRVBSJNRUVJDETGESTUREGCJXTC\n",
      "[3, 10, 22, 10, 13, 18, 3, 13, 12, 1, 14, 14, 8, 3, 4, 8, 12, 20, 7, 19, 23, 4, 5, 16, 19, 6, 4, 18, 19, 20, 17, 4, 16, 10, 24, 16, 15]\n",
      "DKWKNSDNMBOOIDEIMUHTXEFQTGESTUREQKYQP\n",
      "20 : not possible\n",
      "21 : not possible\n",
      "22 : not possible\n",
      "[16, 22, 19, 0, 20, 4, 16, 1, 15, 11, 7, 2, 21, 15, 1, 24, 19, 6, 20, 7, 0, 14, 24, 4, 6, 18, 1, 8, 0, 6, 4, 18, 19, 20, 17, 4, 2]\n",
      "QWTAUEQBPLHCVPBYTGUHAOYEGSBIAGESTUREC\n"
     ]
    }
   ],
   "source": [
    "for start in range(0, len(coded) - len(part)):\n",
    "    initial_array = part_array.copy()\n",
    "    if part_array[0] + part_array[6] != coded_array[start + len(part) - 1]:\n",
    "        print(start, ': not possible')\n",
    "        continue\n",
    "    for current in range(start + len(part), len(coded)):\n",
    "        next_letter = (coded_array[current] - initial_array[-6]) % 26\n",
    "        initial_array.append(next_letter)\n",
    "    for current in range(start + len(part) - 2, -1, -1):\n",
    "        previous_letter = (coded_array[current] - initial_array[5]) % 26\n",
    "        initial_array = [previous_letter] + initial_array\n",
    "    print(initial_array)\n",
    "    print(''.join(chr(el + ord('A')) for el in initial_array))"
   ]
  },
  {
   "cell_type": "code",
   "execution_count": null,
   "metadata": {},
   "outputs": [],
   "source": []
  }
 ],
 "metadata": {
  "kernelspec": {
   "display_name": "Python 3",
   "language": "python",
   "name": "python3"
  },
  "language_info": {
   "codemirror_mode": {
    "name": "ipython",
    "version": 3
   },
   "file_extension": ".py",
   "mimetype": "text/x-python",
   "name": "python",
   "nbconvert_exporter": "python",
   "pygments_lexer": "ipython3",
   "version": "3.8.2"
  }
 },
 "nbformat": 4,
 "nbformat_minor": 4
}
